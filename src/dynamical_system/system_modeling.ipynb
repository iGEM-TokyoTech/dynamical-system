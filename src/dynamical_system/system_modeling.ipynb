{
 "cells": [
  {
   "cell_type": "markdown",
   "metadata": {},
   "source": [
    "# 目標\n",
    "\n",
    "システムとモデリングについて大まかに理解する．\n"
   ]
  },
  {
   "cell_type": "markdown",
   "metadata": {},
   "source": [
    "# システム\n",
    "\n",
    "<div class=\"def\" style=\"border-radius: 0.5rem; border:solid 0.01rem; background-color: rgba(192, 160, 255 , 0.2); padding:1rem 1rem 0rem 1rem\" >\n",
    "<div style=\"border-bottom: solid 0.01rem; margin:0 0 0.5rem 0\">\n",
    "\n",
    "**定義**: システム(系)\n",
    "\n",
    "</div>\n",
    "<div>\n",
    "\n",
    "システムとは有機的な秩序を保った多数の要素からなる仕組み，または集合体である[[1](#footnote1)]．\n",
    "\n",
    "</div>\n",
    "</div>\n",
    "\n",
    "科学分野においては，現実世界からいくつかの要素にのみ着目しそれらだけで構成され，他の要素による影響は全く考えないように系を構築することがある．\n",
    "\n",
    "<div class=\"def\" style=\"border-radius: 0.5rem; border:solid 0.01rem; background-color: rgba(0, 160, 255 , 0.2); padding:1rem 1rem 0rem 1rem\" >\n",
    "<div style=\"border-bottom: solid 0.01rem; margin:0 0 0.5rem 0\" id=\"ex1\">\n",
    "\n",
    "**具体例**: (振り子運動におけるシステム)\n",
    "\n",
    "</div>\n",
    "<div>\n",
    "\n",
    "振り子の運動は自身の重心の位置 $\\boldsymbol{r}$，重心の速度 $\\boldsymbol{v}$ の相互作用，\n",
    "振り子にかかる重力 $mg$， や張力 $S$によって記述される．\n",
    "\n",
    "<figure style=\"width: 100%; max-width: 500px; margin: 0 auto; text-align: center;\">\n",
    "  <img src=\"./img/pendulum_system.png\" alt=\"振り子運動概観\" style=\"max-width: 100%; height: auto; object-fit: contain; border: 2px solid #ccc; border-radius: 5px; box-shadow: 0 0 10px rgba(0, 0, 0, 0.1);\">\n",
    "  <figcaption style=\"font-style: italic; font-size: 0.8em; color: #666; margin-top: 5px;\">振り子運動</figcaption>\n",
    "</figure>\n",
    "\n",
    "しかし，重力は考えるのに振り子から地球への万有引力やそれによる地球の運動，空気抵抗による振動の減衰は考えない．それは，振り子の運動への影響が小さかったり，本質的ではないと考えられるからである．\n",
    "\n",
    "つまり，この振り子運動は重心の位置，重心の速度を要素とし，重力や張力によって規則づけられるシステムと考えることができる．\n",
    "\n",
    "<figure style=\"width: 100%; max-width: 500px; margin: 0 auto; text-align: center;\">\n",
    "  <img src=\"./img/pendulum_abst.png\" alt=\"振り子運動のシステム\" style=\"max-width: 100%; height: auto; object-fit: contain; border: 2px solid #ccc; border-radius: 5px; box-shadow: 0 0 10px rgba(0, 0, 0, 0.1);\">\n",
    "  <figcaption style=\"font-style: italic; font-size: 0.8em; color: #666; margin-top: 5px;\">振り子運動のシステム</figcaption>\n",
    "</figure>\n",
    "\n",
    "</div>\n",
    "</div>\n"
   ]
  },
  {
   "cell_type": "markdown",
   "metadata": {},
   "source": [
    "# モデリング\n",
    "\n",
    "<div class=\"def\" style=\"border-radius: 0.5rem; border:solid 0.01rem; background-color: rgba(192, 160, 255 , 0.2); padding:1rem 1rem 0rem 1rem\" >\n",
    "<div style=\"border-bottom: solid 0.01rem; margin:0 0 0.5rem 0\">\n",
    "\n",
    "**定義**: モデル\n",
    "\n",
    "</div>\n",
    "<div>\n",
    "\n",
    "モデルとは，科学的方法において，理論を説明し，可視化し，理解する為の簡単で具体的なもの(図形や物体、数式など)[[2](#footnote2)]．\n",
    "\n",
    "</div>\n",
    "</div>\n",
    "\n",
    "モデリングとはモデルを構築することである．\n",
    "例えばシステムモデリングは，システムにおける要素を定義し，その要素同士の相互作用を数式などを用いて記述してシステムのモデルを作ることである．\n",
    "\n",
    "モデル化することの意義は，単に説明するためというだけではなく(それだけのものもあるかもしれないが)，\n",
    "構築されたモデルからシミュレーションを通して現象を制御することに役立てることができる．\n",
    "\n",
    "実際， iGEM 2022 で Best Model を獲得した TU Eindhoven の Model ページには以下の記述がある．\n",
    "\n",
    "> This model is designed to simulate the behavior of the system in normal and in extreme situations by only changing certain variables. This way, the system’s behavior can be predicted without getting dangerous situations in the laboratory. Furthermore, the model especially supports us in improving and reducing future lab work by predicting optimizing conditions and useful experiments. [[3](#footnote3)]\n",
    "\n",
    "<figure style=\"width: 100%; max-width: 500px; margin: 0 auto; text-align: center;\">\n",
    "  <img src=\"./img/flow_system_modeling.png\" alt=\"システムモデリングのフロー\" style=\"max-width: 100%; height: auto; object-fit: contain; border: 2px solid #ccc; border-radius: 5px; box-shadow: 0 0 10px rgba(0, 0, 0, 0.1);\">\n",
    "  <figcaption style=\"font-style: italic; font-size: 0.8em; color: #666; margin-top: 5px;\">システムモデリングのフロー</figcaption>\n",
    "</figure>\n"
   ]
  },
  {
   "cell_type": "markdown",
   "metadata": {},
   "source": [
    "<a name=\"footnote1\">1</a>: 黒田千秋編集 (2014). 『システム解析』. 朝倉書店, 東京, Japan. ISBN: 978-4-254-25604-8 [4254256043].\n",
    "\n",
    "<a name=\"footnote2\">2</a>: モデル (自然科学), https://ja.wikipedia.org/w/index.php?title=%E3%83%A2%E3%83%87%E3%83%AB_(%E8%87%AA%E7%84%B6%E7%A7%91%E5%AD%A6)&oldid=91462197 (last visited Apr. 12, 2024).\n",
    "\n",
    "<a name=\"footnote3\">3</a>: Model | TU-Eindhoven - iGEM 2022, https://2022.igem.wiki/tu-eindhoven/model (last visited Apr. 12, 2024).\n"
   ]
  }
 ],
 "metadata": {
  "kernelspec": {
   "display_name": "Python 3 (ipykernel)",
   "language": "python",
   "name": "python3"
  },
  "language_info": {
   "codemirror_mode": {
    "name": "ipython",
    "version": 3
   },
   "file_extension": ".py",
   "mimetype": "text/x-python",
   "name": "python",
   "nbconvert_exporter": "python",
   "pygments_lexer": "ipython3",
   "version": "3.12.0"
  }
 },
 "nbformat": 4,
 "nbformat_minor": 4
}
