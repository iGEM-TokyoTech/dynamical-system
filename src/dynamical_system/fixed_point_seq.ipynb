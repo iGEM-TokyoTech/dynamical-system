{
 "cells": [
  {
   "cell_type": "markdown",
   "metadata": {},
   "source": [
    "# 目標\n",
    "\n",
    "連続力学系における不動点について知る\n"
   ]
  },
  {
   "cell_type": "markdown",
   "metadata": {},
   "source": [
    "# 常微分方程式によって記述される力学系の不動点\n",
    "\n",
    "<div style=\"border-radius: 0.5rem; border:solid 0.01rem; background-color: rgba(192, 160, 255 , 0.2); padding:1rem 1rem 0rem 1rem\" >\n",
    "<div style=\"border-bottom: solid 0.01rem; margin:0 0 0.5rem 0\">\n",
    "\n",
    "**定義**: (微分方程式の不動点)[[1](#footnote1)]\n",
    "\n",
    "</div>\n",
    "<div>\n",
    "\n",
    "自励的な微分方程式 $\\dot{\\boldsymbol{x}} = f(\\boldsymbol{x})$ の定数解を方程式の**不動点**(**平衡点**)という．\n",
    "\n",
    "</div>\n",
    "</div>\n",
    "\n",
    "<br />\n",
    "\n",
    "<div class=\"def\" style=\"border-radius: 0.5rem; border:solid 0.01rem; background-color: rgba(0, 160, 255 , 0.2); padding:1rem 1rem 0rem 1rem\" >\n",
    "<div style=\"border-bottom: solid 0.01rem; margin:0 0 0.5rem 0\" id=\"ex1\">\n",
    "\n",
    "**具体例**: (微分方程式の不動点)\n",
    "\n",
    "</div>\n",
    "<div>\n",
    "\n",
    "ロジスティック方程式 $\\dot{x} = ax(1-\\frac{x}{N})$ の $a\\neq 0$ における定数解は\n",
    "$x = 0, N$ であり，これが微分方程式の不動点である．\n",
    "\n",
    "</div>\n",
    "</div>\n",
    "\n",
    "微分方程式の平衡点は $\\dot{x} = 0$ を満たし，これは時間が変化しても状態が変化しないことを表す．\n",
    "すなわち，離散力学系における[不動点](./fixed_point.ipynb)\n",
    "は連続力学系における不動点である．\n",
    "\n",
    "以下にロジスティック方程式 $\\dot{x} = ax(1-x)$\n",
    "の不動点 $0, 1$ とその付近を初期値とした数値解の挙動を示す．\n"
   ]
  },
  {
   "cell_type": "code",
   "execution_count": 9,
   "metadata": {},
   "outputs": [
    {
     "data": {
      "image/png": "[encoded data removed]",
      "text/plain": [
       "<Figure size 640x480 with 1 Axes>"
      ]
     },
     "metadata": {},
     "output_type": "display_data"
    }
   ],
   "source": [
    "import matplotlib.pyplot as plt\n",
    "from model.logistic_growth import SequentialLogisticGrowth\n",
    "\n",
    "# a = 2.0 での f(x)\n",
    "m = SequentialLogisticGrowth(2.0)\n",
    "\n",
    "# 初期値\n",
    "x_1_init: float = 0.01\n",
    "x_2_init: float = 3.00\n",
    "x_3_init: float = -0.01\n",
    "\n",
    "dt = 0.001\n",
    "end = 10\n",
    "\n",
    "# バクテリアの個体数のリスト\n",
    "X_1, _ = m.simulate(x_1_init, dt, end)\n",
    "X_2, _ = m.simulate(x_2_init, dt, end)\n",
    "X_3, T = m.simulate(x_3_init, dt, end)\n",
    "\n",
    "\n",
    "# プロット\n",
    "plt.plot(T, X_1[0], label=\"start from 0.01\")\n",
    "plt.plot(T, X_2[0], label=\"start from 3\")\n",
    "plt.plot(T, X_3[0], label=\"start from -0.01\")\n",
    "plt.plot([0, 10], [1, 1], color=\"black\", linestyle=\"--\", linewidth=0.5)\n",
    "plt.plot([0, 10], [0, 0], color=\"black\", linestyle=\"--\", linewidth=0.5)\n",
    "plt.title(\"Logistic Growth Model\")\n",
    "plt.xlabel(\"Time\")\n",
    "plt.ylabel(\"$x$\")\n",
    "plt.ylim(-3.5, 3.5)\n",
    "plt.legend()\n",
    "plt.show()"
   ]
  },
  {
   "cell_type": "markdown",
   "metadata": {},
   "source": [
    "上の図を見ると， 0.01 や 3 を初期値とする解は $x = 1$ に漸近し，\n",
    "-0.01 を初期値とする解は有限時間で発散していることがわかる．\n",
    "\n",
    "<div style=\"border-radius: 0.5rem; border:solid 0.01rem; background-color: rgba(192, 160, 255 , 0.2); padding:1rem 1rem 0rem 1rem\" >\n",
    "<div style=\"border-bottom: solid 0.01rem; margin:0 0 0.5rem 0\">\n",
    "\n",
    "**少し曖昧な定義**: (沈点，源点)[[1](#footnote1)]\n",
    "\n",
    "</div>\n",
    "<div>\n",
    "\n",
    "不動点付近を初期値とする軌道が，不動点に収束するときこれを**沈点**という．\n",
    "\n",
    "不動点付近を初期値とする軌道が，不動点から離れるときこれを**源点**という．\n",
    "\n",
    "</div>\n",
    "</div>\n",
    "\n",
    "これは離散力学系における\n",
    "沈点や原点の定義と近しいものである．\n",
    "\n",
    "<div class=\"def\" style=\"border-radius: 0.5rem; border:solid 0.01rem; background-color: rgba(0, 160, 255 , 0.2); padding:1rem 1rem 0rem 1rem\" >\n",
    "<div style=\"border-bottom: solid 0.01rem; margin:0 0 0.5rem 0\" id=\"ex1\">\n",
    "\n",
    "**具体例**: (微分方程式の沈点と源点)\n",
    "\n",
    "</div>\n",
    "<div>\n",
    "\n",
    "ロジスティック方程式 $\\dot{x} = ax(1-x)$ の\n",
    "不動点は $x = 0, 1$\n",
    "であり，\n",
    "$x=0$ は源点，\n",
    "$x=1$ は沈点である．\n",
    "\n",
    "</div>\n",
    "</div>\n"
   ]
  },
  {
   "cell_type": "markdown",
   "metadata": {},
   "source": [
    "## 安定性\n",
    "\n",
    "離散力学系の不動点と同じでこれも吸引とリヤプノフ安定と二つの概念がある．\n",
    "\n",
    "<div style=\"border-radius: 0.5rem; border:solid 0.01rem; background-color: rgba(192, 160, 255 , 0.2); padding:1rem 1rem 0rem 1rem\" >\n",
    "<div style=\"border-bottom: solid 0.01rem; margin:0 0 0.5rem 0\">\n",
    "\n",
    "**定義**: (吸引的)[[2](#footnote2)]\n",
    "\n",
    "</div>\n",
    "<div>\n",
    "\n",
    "不動点 $\\boldsymbol{p}$ ，\n",
    "ある $\\delta$ が存在し， $|\\boldsymbol{x} - \\boldsymbol{p}| < \\delta$\n",
    "ならば\n",
    "$t \\rightarrow \\infty$\n",
    "で $\\boldsymbol{x}$ が $\\boldsymbol{p}$ に収束するとき，\n",
    "$\\boldsymbol{p}$ を**吸引的**という．\n",
    "\n",
    "</div>\n",
    "</div>\n",
    "\n",
    "<br />\n",
    "\n",
    "<div style=\"border-radius: 0.5rem; border:solid 0.01rem; background-color: rgba(192, 160, 255 , 0.2); padding:1rem 1rem 0rem 1rem\" >\n",
    "<div style=\"border-bottom: solid 0.01rem; margin:0 0 0.5rem 0\">\n",
    "\n",
    "**定義**: (リヤプノフ安定)[[1](#footnote1)]\n",
    "\n",
    "</div>\n",
    "<div>\n",
    "\n",
    "不動点 $\\boldsymbol{p}$ の近傍 $N$ に対して， $N$ に含まれる $\\boldsymbol{p}$ の近傍 $N_1$ が存在し，\n",
    "$N_1$ に属するそれぞれの\n",
    "初期値 $\\boldsymbol{x}_0$\n",
    "に対して，\n",
    "$t \\geq 0$ における全ての\n",
    "軌道が $N$ に含まれるとき，\n",
    "$\\boldsymbol{p}$ を**リヤプノフ安定**という．\n",
    "\n",
    "</div>\n",
    "</div>\n"
   ]
  },
  {
   "cell_type": "markdown",
   "metadata": {},
   "source": [
    "<a id=\"footnote1\">1</a>: K.T. アリグッド, T.D. サウアー, J.A. ヨーク著, 星野高志ほか訳『カオス : 力学系入門』(Chaos: Introduction to Dynamical Systems), シュプリンガー・ジャパン, 東京, Japan, 2006.12-2007.4, ISBN: 978-4-431-71236-7 [4431712364].\n",
    "\n",
    "<a id=\"footnote2\">2</a>: C. ロビンソン著, 國府寛司, 柴山健伸, 岡宏枝訳, 力学系, シュプリンガー・フェアラーク東京, 東京, Japan, 2001.12\n",
    "ISBN: 9784431708254 [4431708251] (上), 9784431708261 [443170826X] (下).\n"
   ]
  }
 ],
 "metadata": {
  "kernelspec": {
   "display_name": "Python 3 (ipykernel)",
   "language": "python",
   "name": "python3"
  },
  "language_info": {
   "codemirror_mode": {
    "name": "ipython",
    "version": 3
   },
   "file_extension": ".py",
   "mimetype": "text/x-python",
   "name": "python",
   "nbconvert_exporter": "python",
   "pygments_lexer": "ipython3",
   "version": "3.12.0"
  }
 },
 "nbformat": 4,
 "nbformat_minor": 4
}
