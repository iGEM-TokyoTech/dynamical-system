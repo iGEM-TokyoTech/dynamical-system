{
 "cells": [
  {
   "cell_type": "markdown",
   "metadata": {},
   "source": [
    "# 目標\n",
    "\n",
    "力学系に対して大まかな理解をする\n"
   ]
  },
  {
   "cell_type": "markdown",
   "metadata": {},
   "source": [
    "# 力学系\n",
    "\n",
    "<div style=\"border-radius: 0.5rem; border:solid 0.01rem; background-color: rgba(192, 160, 255 , 0.2); padding:1rem 1rem 0rem 1rem\" >\n",
    "<div style=\"border-bottom: solid 0.01rem; margin:0 0 0.5rem 0\">\n",
    "\n",
    "**定義**: 力学系\n",
    "\n",
    "</div>\n",
    "<div>\n",
    "\n",
    "力学系とは以下の条件を満たす組 $(M, (g^t)_{t\\in T})$ のことである[[1](#footnote1)]．\n",
    "\n",
    "1. $(T, \\cdot, e)$ がモノイドであり， $t$ を期間， $T$ を時間集合と呼ぶ．\n",
    "2. $M$ は空でない集合である． $\\boldsymbol{x}\\in M$ を状態， $M$ を状態空間と呼ぶ．\n",
    "3. $(g^t)_{t\\in T}$ は $M\\rightarrow M$ なる関数の族で $T$ で添字付けされる． 任意の $t\\in T$ において $g^t$ を期間 $t$ におけるシステムの状態遷移と呼ぶ．\n",
    "4. 任意の $v, t \\in T$ ， および任意の $\\boldsymbol{x} \\in M$ において $g^0(\\boldsymbol{x}) =\\boldsymbol{x}$， $g^{v\\cdot t}(\\boldsymbol{x}) = g^{v}(g^{t}(\\boldsymbol{x}))$\n",
    "</div>\n",
    "</div>\n",
    "\n",
    "連続力学系も離散力学系もこの定義に沿って解釈ができる．\n",
    "\n",
    "<div class=\"def\" style=\"border-radius: 0.5rem; border:solid 0.01rem; background-color: rgba(0, 160, 255 , 0.2); padding:1rem 1rem 0rem 1rem\" >\n",
    "<div style=\"border-bottom: solid 0.01rem; margin:0 0 0.5rem 0\" id=\"ex1\">\n",
    "\n",
    "**具体例**: (力学系)\n",
    "\n",
    "</div>\n",
    "<div>\n",
    "\n",
    "関数 $f(x) = 2x$ は数 $x$ に対し，それを 2 倍にしたものを割り当てるものであるが， $x$ を実験室の培地にいるバクテリアの個体数とすれば $f(x)$ は 1 時間後の培地にいるバクテリアの数と考えることができる．\n",
    "2 時間後にいるバクテリアの数は $f(f(x)) = 4x$ である．上の定義に当てはめると $M = \\mathbb{N}$， $(T, \\cdot, e) = (\\mathbb{N}, +, 0)$， $g^t = f(f(f(\\dots)))$ となる．\n",
    "\n",
    "</div>\n",
    "</div>\n",
    "\n",
    "このように，力学系は (可能な) 状態の集合 ($M$) と，過去の状態から未来の状態を決定する規則 ($g^t$) から成り立っている[[2](#footnote2)]．\n",
    "また，力学系においては未来の状態が過去の状態から一意的に定められるという**決定論的な立場**をとる． (そうでないものは力学系ではなく確立過程と呼ばれる)\n"
   ]
  },
  {
   "cell_type": "code",
   "execution_count": 1,
   "metadata": {},
   "outputs": [
    {
     "data": {
      "image/png": "[encoded data removed]",
      "text/plain": [
       "<Figure size 640x480 with 1 Axes>"
      ]
     },
     "metadata": {},
     "output_type": "display_data"
    }
   ],
   "source": [
    "import matplotlib.pyplot as plt\n",
    "\n",
    "\n",
    "# f(x) = 2x の規則\n",
    "def f(x: float):\n",
    "    return 2.0 * x\n",
    "\n",
    "\n",
    "# 初期値\n",
    "x: float = 0.01\n",
    "\n",
    "# シミュレーションのステップ数\n",
    "steps = 10\n",
    "\n",
    "# バクテリアの個体数のリスト\n",
    "X: list[float] = [x]\n",
    "\n",
    "# シミュレーション\n",
    "for _ in range(steps):\n",
    "    x = f(x)\n",
    "    X.append(x)\n",
    "\n",
    "# プロット\n",
    "plt.plot(X)\n",
    "plt.title(\"Bacteria Populations\")\n",
    "plt.xlabel(\"Time\")\n",
    "plt.ylabel(\"Population\")\n",
    "plt.show()"
   ]
  },
  {
   "cell_type": "markdown",
   "metadata": {},
   "source": [
    "# 離散力学系\n",
    "\n",
    "<div style=\"border-radius: 0.5rem; border:solid 0.01rem; background-color: rgba(192, 160, 255 , 0.2); padding:1rem 1rem 0rem 1rem\" >\n",
    "<div style=\"border-bottom: solid 0.01rem; margin:0 0 0.5rem 0\">\n",
    "\n",
    "**定義**: 離散力学系\n",
    "\n",
    "</div>\n",
    "<div>\n",
    "\n",
    "過去の状態から未来の状態を決定する規則が離散時間で与えられるものを離散力学系という．\n",
    "\n",
    "</div>\n",
    "</div>\n",
    "\n",
    "先述の[具体例:(力学系)](#ex1)は $T = \\mathbb{N}$ で離散的なので離散力学系である．\n",
    "離散力学系における規則の時間(期間)を短くしていった極限が連続力学系である．このとき，規則は微分方程式の組となる[[2](#footnote2)]．\n",
    "\n",
    "<figure style=\"width: 100%; max-width: 500px; margin: 0 auto; text-align: center;\">\n",
    "  <img src=\"./img/desc_cont.png\" alt=\"離散力学系と連続力学系の違い\" style=\"max-width: 100%; height: auto; object-fit: contain; border: 2px solid #ccc; border-radius: 5px; box-shadow: 0 0 10px rgba(0, 0, 0, 0.1);\">\n",
    "  <figcaption style=\"font-style: italic; font-size: 0.8em; color: #666; margin-top: 5px;\">離散力学系と連続力学系の違い</figcaption>\n",
    "</figure>\n",
    "\n",
    "まずは，連続力学系を勉強する前に離散力学系を学ぶ．\n",
    "\n",
    "#### おまけ\n",
    "\n",
    "連続力学系を離散力学系に落とし込めて分析する方法も\n",
    "ある．\n",
    "詳しくは [`appendix/app2.ipynb`](./appendix/app2.ipynb)．\n"
   ]
  },
  {
   "cell_type": "markdown",
   "metadata": {},
   "source": [
    "## 脚注\n",
    "\n",
    "<a id=\"footnote1\">1</a>: Giunti, M., & Mazzola, C. (2012). Dynamical systems on monoids: Toward a general theory of deterministic systems and motion. In _Methods, models, simulations and approaches towards a general theory of change_ (pp. 173-185).\n",
    "\n",
    "<a id=\"footnote2\">2</a>: K.T. アリグッド, T.D. サウアー, J.A. ヨーク著, 星野高志ほか訳『カオス : 力学系入門』(Chaos: Introduction to Dynamical Systems), シュプリンガー・ジャパン, 東京, Japan, 2006.12-2007.4, ISBN: 978-4-431-71236-7 [4431712364].\n"
   ]
  }
 ],
 "metadata": {
  "kernelspec": {
   "display_name": "Python 3 (ipykernel)",
   "language": "python",
   "name": "python3"
  },
  "language_info": {
   "codemirror_mode": {
    "name": "ipython",
    "version": 3
   },
   "file_extension": ".py",
   "mimetype": "text/x-python",
   "name": "python",
   "nbconvert_exporter": "python",
   "pygments_lexer": "ipython3",
   "version": "3.12.0"
  }
 },
 "nbformat": 4,
 "nbformat_minor": 4
}
