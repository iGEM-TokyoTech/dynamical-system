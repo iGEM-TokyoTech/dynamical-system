{
 "cells": [
  {
   "cell_type": "markdown",
   "metadata": {},
   "source": [
    "# 微分方程式の分類\n",
    "\n",
    "<div style=\"border-radius: 0.5rem; border:solid 0.01rem; background-color: rgba(192, 160, 255 , 0.2); padding:1rem 1rem 0rem 1rem\" >\n",
    "<div style=\"border-bottom: solid 0.01rem; margin:0 0 0.5rem 0\">\n",
    "\n",
    "**定義**: (自励的，非自励的)[[1](#footnote1)]\n",
    "\n",
    "</div>\n",
    "<div>\n",
    "\n",
    "$$\n",
    "\\displaystyle{\n",
    "    \\dot{x} = ax\n",
    "}\n",
    "$$\n",
    "\n",
    "のように方程式に時間変数 $t$ が陽に現れないものを**自励的**という．\n",
    "\n",
    "$$\n",
    "\\displaystyle{\n",
    "    \\ddot{x} = \\dot{x} + t\n",
    "}\n",
    "$$\n",
    "\n",
    "のように方程式に時間変数 $t$ が陽に現れるものを**非自励的**という．\n",
    "\n",
    "</div>\n",
    "</div>\n",
    "\n",
    "自励的な方程式によって記述される系の軌道を状態空間\n",
    "に描画しても\n",
    "それらが交わることはない．\n",
    "(交わったら 1 点で 2 つの傾きを持ち得てしまいおかしい)\n"
   ]
  },
  {
   "cell_type": "markdown",
   "metadata": {},
   "source": [
    "<a id=\"footnote1\">1</a>: K.T. アリグッド, T.D. サウアー, J.A. ヨーク著, 星野高志ほか訳『カオス : 力学系入門』(Chaos: Introduction to Dynamical Systems), シュプリンガー・ジャパン, 東京, Japan, 2006.12-2007.4, ISBN: 978-4-431-71236-7 [4431712364].\n"
   ]
  }
 ],
 "metadata": {
  "language_info": {
   "name": "python"
  }
 },
 "nbformat": 4,
 "nbformat_minor": 2
}
