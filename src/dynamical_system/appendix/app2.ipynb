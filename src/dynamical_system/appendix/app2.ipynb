{
 "cells": [
  {
   "cell_type": "markdown",
   "metadata": {},
   "source": [
    "## ポアンカレ写像\n",
    "\n",
    "連続力学系(より複雑)を離散力学系(より単純)に落とし込む際などに利用される．\n",
    "\n",
    "例えば，ある連続力学系が描く軌道が\n",
    "とある断面(ポアンカレ断面)\n",
    "を通過する点を\n",
    "離散力学系として捉えることができ，\n",
    "このようにして連続力学系を離散力学系に落とし込める．\n",
    "\n",
    "<figure style=\"width: 100%; max-width: 500px; margin: 0 auto; text-align: center;\">\n",
    "  <img src=\"../img/poincare_section.png\" alt=\"ポアンカレ断面\" style=\"max-width: 100%; height: auto; object-fit: contain; border: 2px solid #ccc; border-radius: 5px; box-shadow: 0 0 10px rgba(0, 0, 0, 0.1);\">\n",
    "  <figcaption style=\"font-style: italic; font-size: 0.8em; color: #666; margin-top: 5px;\">ポアンカレ断面</figcaption>\n",
    "</figure>\n"
   ]
  }
 ],
 "metadata": {
  "language_info": {
   "name": "python"
  }
 },
 "nbformat": 4,
 "nbformat_minor": 2
}
